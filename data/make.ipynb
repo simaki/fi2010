{
 "cells": [
  {
   "cell_type": "code",
   "execution_count": 1,
   "metadata": {},
   "outputs": [],
   "source": [
    "%reload_ext autoreload\n",
    "%autoreload\n",
    "\n",
    "import os\n",
    "from itertools import product\n",
    "\n",
    "import numpy as np\n",
    "import pandas as pd\n",
    "from tqdm import tqdm"
   ]
  },
  {
   "cell_type": "code",
   "execution_count": 2,
   "metadata": {},
   "outputs": [],
   "source": [
    "assert os.path.exists(\"./BenchmarkDatasets\")"
   ]
  },
  {
   "cell_type": "code",
   "execution_count": 3,
   "metadata": {},
   "outputs": [],
   "source": [
    "def load_raw(day: int) -> np.array:\n",
    "    root = \"./BenchmarkDatasets/NoAuction/3.NOAuction_DecPre\"\n",
    "    if day == 1:\n",
    "        return np.loadtxt(\n",
    "            f\"{root}/NoAuction_DecPre_Training/Train_Dst_NoAuction_DecPre_CF_1.txt\"\n",
    "        )\n",
    "    else:\n",
    "        return np.loadtxt(\n",
    "            f\"{root}/NoAuction_DecPre_Testing/Test_Dst_NoAuction_DecPre_CF_{day-1}.txt\"\n",
    "        )"
   ]
  },
  {
   "cell_type": "code",
   "execution_count": 4,
   "metadata": {},
   "outputs": [],
   "source": [
    "def split(array, n_stocks=5) -> (np.array, ...):\n",
    "    boundaries = np.sort(\n",
    "        np.argsort(np.abs(np.diff(array[0], prepend=np.inf)))[-n_stocks - 1 :]\n",
    "    )\n",
    "    return tuple(array[:, boundaries[i] : boundaries[i + 1]] for i in range(n_stocks))"
   ]
  },
  {
   "cell_type": "code",
   "execution_count": 5,
   "metadata": {},
   "outputs": [],
   "source": [
    "def to_dataframe(array) -> pd.DataFrame:\n",
    "    data = {}\n",
    "\n",
    "    for level in range(10):\n",
    "        data[f\"PRICE_ASK_{level}\"] = array[4 * level]\n",
    "    for level in range(10):\n",
    "        data[f\"PRICE_BID_{level}\"] = array[4 * level + 2]\n",
    "    for level in range(10):\n",
    "        data[f\"VOLUME_ASK_{level}\"] = array[4 * level + 1]\n",
    "    for level in range(10):\n",
    "        data[f\"VOLUME_BID_{level}\"] = array[4 * level + 3]\n",
    "    data[f\"LABEL_1TICK\"] = 2 - array[-5]\n",
    "    data[f\"LABEL_2TICK\"] = 2 - array[-4]\n",
    "    data[f\"LABEL_3TICK\"] = 2 - array[-3]\n",
    "    data[f\"LABEL_5TICK\"] = 2 - array[-2]\n",
    "    data[f\"LABEL_10TICK\"] = 2 - array[-1]\n",
    "\n",
    "    return pd.DataFrame(data)"
   ]
  },
  {
   "cell_type": "code",
   "execution_count": 6,
   "metadata": {},
   "outputs": [],
   "source": [
    "def revert_decimal_normalization(df, max_denom=10 ** 8):\n",
    "    assert (df.iloc[:, :-5].values != 0).all()\n",
    "\n",
    "    df.iloc[:, :-5] = df.iloc[:, :-5] * max_denom\n",
    "    df.iloc[:, :-5] = df.iloc[:, :-5].round()\n",
    "    df.iloc[:, :-5] = df.iloc[:, :-5].astype(int)\n",
    "    for c in df.columns[:-5]:\n",
    "        while (df.loc[:, c] % 10 == 0).all():\n",
    "            df.loc[:, c] //= 10\n",
    "    return df"
   ]
  },
  {
   "cell_type": "code",
   "execution_count": 7,
   "metadata": {},
   "outputs": [
    {
     "name": "stderr",
     "output_type": "stream",
     "text": [
      "100%|██████████| 10/10 [00:27<00:00,  2.76s/it]\n"
     ]
    }
   ],
   "source": [
    "dfs = {i_stock: {} for i_stock in range(1, 5 + 1)}\n",
    "\n",
    "for day in tqdm(range(1, 10 + 1)):\n",
    "    a_raw = load_raw(day)\n",
    "    for i_stock, a in enumerate(split(a_raw)):\n",
    "        dfs[i_stock + 1][day] = to_dataframe(a)"
   ]
  },
  {
   "cell_type": "code",
   "execution_count": 8,
   "metadata": {
    "tags": []
   },
   "outputs": [
    {
     "name": "stderr",
     "output_type": "stream",
     "text": [
      "100%|██████████| 50/50 [00:06<00:00,  7.88it/s]\n"
     ]
    }
   ],
   "source": [
    "listdf = []\n",
    "\n",
    "for i_stock, day in tqdm(list(product(range(1, 5 + 1), range(1, 10 + 1)))):\n",
    "    df = dfs[i_stock][day]\n",
    "    df = revert_decimal_normalization(df)\n",
    "    df[\"STOCK\"] = i_stock\n",
    "    df[\"DAY\"] = day\n",
    "    df = df[list(df.columns[-2:]) + list(df.columns[:-2])]\n",
    "\n",
    "    listdf.append(df)\n",
    "\n",
    "dataframe = pd.concat(listdf, axis=0)\n",
    "dataframe = dataframe.reset_index(drop=True)\n",
    "dataframe.to_csv(f\"data.csv\")"
   ]
  },
  {
   "cell_type": "code",
   "execution_count": 9,
   "metadata": {},
   "outputs": [
    {
     "data": {
      "text/html": "<div>\n<style scoped>\n    .dataframe tbody tr th:only-of-type {\n        vertical-align: middle;\n    }\n\n    .dataframe tbody tr th {\n        vertical-align: top;\n    }\n\n    .dataframe thead th {\n        text-align: right;\n    }\n</style>\n<table border=\"1\" class=\"dataframe\">\n  <thead>\n    <tr style=\"text-align: right;\">\n      <th></th>\n      <th>STOCK</th>\n      <th>DAY</th>\n      <th>PRICE_ASK_0</th>\n      <th>PRICE_ASK_1</th>\n      <th>PRICE_ASK_2</th>\n      <th>PRICE_ASK_3</th>\n      <th>PRICE_ASK_4</th>\n      <th>PRICE_ASK_5</th>\n      <th>PRICE_ASK_6</th>\n      <th>PRICE_ASK_7</th>\n      <th>...</th>\n      <th>VOLUME_BID_5</th>\n      <th>VOLUME_BID_6</th>\n      <th>VOLUME_BID_7</th>\n      <th>VOLUME_BID_8</th>\n      <th>VOLUME_BID_9</th>\n      <th>LABEL_1TICK</th>\n      <th>LABEL_2TICK</th>\n      <th>LABEL_3TICK</th>\n      <th>LABEL_5TICK</th>\n      <th>LABEL_10TICK</th>\n    </tr>\n  </thead>\n  <tbody>\n    <tr>\n      <th>0</th>\n      <td>1</td>\n      <td>1</td>\n      <td>2615.0</td>\n      <td>2618.0</td>\n      <td>2619.0</td>\n      <td>2620.0</td>\n      <td>2621.0</td>\n      <td>2623.0</td>\n      <td>2625.0</td>\n      <td>2626.0</td>\n      <td>...</td>\n      <td>100.0</td>\n      <td>143.0</td>\n      <td>134.0</td>\n      <td>123.0</td>\n      <td>128.0</td>\n      <td>0.0</td>\n      <td>0.0</td>\n      <td>0.0</td>\n      <td>0.0</td>\n      <td>0.0</td>\n    </tr>\n    <tr>\n      <th>1</th>\n      <td>1</td>\n      <td>1</td>\n      <td>2615.0</td>\n      <td>2619.0</td>\n      <td>2620.0</td>\n      <td>2621.0</td>\n      <td>2625.0</td>\n      <td>2626.0</td>\n      <td>2629.0</td>\n      <td>2633.0</td>\n      <td>...</td>\n      <td>159.0</td>\n      <td>100.0</td>\n      <td>143.0</td>\n      <td>134.0</td>\n      <td>123.0</td>\n      <td>0.0</td>\n      <td>0.0</td>\n      <td>0.0</td>\n      <td>0.0</td>\n      <td>0.0</td>\n    </tr>\n    <tr>\n      <th>2</th>\n      <td>1</td>\n      <td>1</td>\n      <td>2614.0</td>\n      <td>2615.0</td>\n      <td>2617.0</td>\n      <td>2619.0</td>\n      <td>2620.0</td>\n      <td>2621.0</td>\n      <td>2625.0</td>\n      <td>2626.0</td>\n      <td>...</td>\n      <td>159.0</td>\n      <td>100.0</td>\n      <td>143.0</td>\n      <td>134.0</td>\n      <td>123.0</td>\n      <td>-1.0</td>\n      <td>-1.0</td>\n      <td>0.0</td>\n      <td>0.0</td>\n      <td>0.0</td>\n    </tr>\n    <tr>\n      <th>3</th>\n      <td>1</td>\n      <td>1</td>\n      <td>2614.0</td>\n      <td>2617.0</td>\n      <td>2619.0</td>\n      <td>2620.0</td>\n      <td>2621.0</td>\n      <td>2625.0</td>\n      <td>2629.0</td>\n      <td>2633.0</td>\n      <td>...</td>\n      <td>100.0</td>\n      <td>143.0</td>\n      <td>134.0</td>\n      <td>123.0</td>\n      <td>128.0</td>\n      <td>0.0</td>\n      <td>0.0</td>\n      <td>-1.0</td>\n      <td>0.0</td>\n      <td>0.0</td>\n    </tr>\n    <tr>\n      <th>4</th>\n      <td>1</td>\n      <td>1</td>\n      <td>2614.0</td>\n      <td>2617.0</td>\n      <td>2619.0</td>\n      <td>2620.0</td>\n      <td>2621.0</td>\n      <td>2625.0</td>\n      <td>2629.0</td>\n      <td>2633.0</td>\n      <td>...</td>\n      <td>100.0</td>\n      <td>143.0</td>\n      <td>134.0</td>\n      <td>123.0</td>\n      <td>128.0</td>\n      <td>1.0</td>\n      <td>1.0</td>\n      <td>1.0</td>\n      <td>0.0</td>\n      <td>0.0</td>\n    </tr>\n    <tr>\n      <th>...</th>\n      <td>...</td>\n      <td>...</td>\n      <td>...</td>\n      <td>...</td>\n      <td>...</td>\n      <td>...</td>\n      <td>...</td>\n      <td>...</td>\n      <td>...</td>\n      <td>...</td>\n      <td>...</td>\n      <td>...</td>\n      <td>...</td>\n      <td>...</td>\n      <td>...</td>\n      <td>...</td>\n      <td>...</td>\n      <td>...</td>\n      <td>...</td>\n      <td>...</td>\n      <td>...</td>\n    </tr>\n    <tr>\n      <th>272936</th>\n      <td>5</td>\n      <td>10</td>\n      <td>3688.0</td>\n      <td>3690.0</td>\n      <td>3691.0</td>\n      <td>3692.0</td>\n      <td>3693.0</td>\n      <td>3695.0</td>\n      <td>3696.0</td>\n      <td>3697.0</td>\n      <td>...</td>\n      <td>100.0</td>\n      <td>768.0</td>\n      <td>300.0</td>\n      <td>682.0</td>\n      <td>950.0</td>\n      <td>0.0</td>\n      <td>-1.0</td>\n      <td>-1.0</td>\n      <td>0.0</td>\n      <td>1.0</td>\n    </tr>\n    <tr>\n      <th>272937</th>\n      <td>5</td>\n      <td>10</td>\n      <td>3688.0</td>\n      <td>3689.0</td>\n      <td>3690.0</td>\n      <td>3691.0</td>\n      <td>3692.0</td>\n      <td>3693.0</td>\n      <td>3694.0</td>\n      <td>3695.0</td>\n      <td>...</td>\n      <td>100.0</td>\n      <td>768.0</td>\n      <td>300.0</td>\n      <td>682.0</td>\n      <td>950.0</td>\n      <td>-1.0</td>\n      <td>-1.0</td>\n      <td>-1.0</td>\n      <td>-1.0</td>\n      <td>-1.0</td>\n    </tr>\n    <tr>\n      <th>272938</th>\n      <td>5</td>\n      <td>10</td>\n      <td>3677.0</td>\n      <td>3688.0</td>\n      <td>3689.0</td>\n      <td>3690.0</td>\n      <td>3691.0</td>\n      <td>3692.0</td>\n      <td>3693.0</td>\n      <td>3694.0</td>\n      <td>...</td>\n      <td>768.0</td>\n      <td>300.0</td>\n      <td>682.0</td>\n      <td>950.0</td>\n      <td>100.0</td>\n      <td>-1.0</td>\n      <td>-1.0</td>\n      <td>-1.0</td>\n      <td>-1.0</td>\n      <td>-1.0</td>\n    </tr>\n    <tr>\n      <th>272939</th>\n      <td>5</td>\n      <td>10</td>\n      <td>3677.0</td>\n      <td>3688.0</td>\n      <td>3689.0</td>\n      <td>3690.0</td>\n      <td>3691.0</td>\n      <td>3692.0</td>\n      <td>3693.0</td>\n      <td>3694.0</td>\n      <td>...</td>\n      <td>768.0</td>\n      <td>300.0</td>\n      <td>600.0</td>\n      <td>682.0</td>\n      <td>950.0</td>\n      <td>1.0</td>\n      <td>1.0</td>\n      <td>-1.0</td>\n      <td>-1.0</td>\n      <td>-1.0</td>\n    </tr>\n    <tr>\n      <th>272940</th>\n      <td>5</td>\n      <td>10</td>\n      <td>3677.0</td>\n      <td>3688.0</td>\n      <td>3689.0</td>\n      <td>3690.0</td>\n      <td>3691.0</td>\n      <td>3692.0</td>\n      <td>3693.0</td>\n      <td>3694.0</td>\n      <td>...</td>\n      <td>768.0</td>\n      <td>600.0</td>\n      <td>450.0</td>\n      <td>682.0</td>\n      <td>950.0</td>\n      <td>1.0</td>\n      <td>1.0</td>\n      <td>1.0</td>\n      <td>-1.0</td>\n      <td>-1.0</td>\n    </tr>\n  </tbody>\n</table>\n<p>272941 rows × 47 columns</p>\n</div>",
      "text/plain": "        STOCK  DAY  PRICE_ASK_0  PRICE_ASK_1  PRICE_ASK_2  PRICE_ASK_3  \\\n0           1    1       2615.0       2618.0       2619.0       2620.0   \n1           1    1       2615.0       2619.0       2620.0       2621.0   \n2           1    1       2614.0       2615.0       2617.0       2619.0   \n3           1    1       2614.0       2617.0       2619.0       2620.0   \n4           1    1       2614.0       2617.0       2619.0       2620.0   \n...       ...  ...          ...          ...          ...          ...   \n272936      5   10       3688.0       3690.0       3691.0       3692.0   \n272937      5   10       3688.0       3689.0       3690.0       3691.0   \n272938      5   10       3677.0       3688.0       3689.0       3690.0   \n272939      5   10       3677.0       3688.0       3689.0       3690.0   \n272940      5   10       3677.0       3688.0       3689.0       3690.0   \n\n        PRICE_ASK_4  PRICE_ASK_5  PRICE_ASK_6  PRICE_ASK_7  ...  VOLUME_BID_5  \\\n0            2621.0       2623.0       2625.0       2626.0  ...         100.0   \n1            2625.0       2626.0       2629.0       2633.0  ...         159.0   \n2            2620.0       2621.0       2625.0       2626.0  ...         159.0   \n3            2621.0       2625.0       2629.0       2633.0  ...         100.0   \n4            2621.0       2625.0       2629.0       2633.0  ...         100.0   \n...             ...          ...          ...          ...  ...           ...   \n272936       3693.0       3695.0       3696.0       3697.0  ...         100.0   \n272937       3692.0       3693.0       3694.0       3695.0  ...         100.0   \n272938       3691.0       3692.0       3693.0       3694.0  ...         768.0   \n272939       3691.0       3692.0       3693.0       3694.0  ...         768.0   \n272940       3691.0       3692.0       3693.0       3694.0  ...         768.0   \n\n        VOLUME_BID_6  VOLUME_BID_7  VOLUME_BID_8  VOLUME_BID_9  LABEL_1TICK  \\\n0              143.0         134.0         123.0         128.0          0.0   \n1              100.0         143.0         134.0         123.0          0.0   \n2              100.0         143.0         134.0         123.0         -1.0   \n3              143.0         134.0         123.0         128.0          0.0   \n4              143.0         134.0         123.0         128.0          1.0   \n...              ...           ...           ...           ...          ...   \n272936         768.0         300.0         682.0         950.0          0.0   \n272937         768.0         300.0         682.0         950.0         -1.0   \n272938         300.0         682.0         950.0         100.0         -1.0   \n272939         300.0         600.0         682.0         950.0          1.0   \n272940         600.0         450.0         682.0         950.0          1.0   \n\n        LABEL_2TICK  LABEL_3TICK  LABEL_5TICK  LABEL_10TICK  \n0               0.0          0.0          0.0           0.0  \n1               0.0          0.0          0.0           0.0  \n2              -1.0          0.0          0.0           0.0  \n3               0.0         -1.0          0.0           0.0  \n4               1.0          1.0          0.0           0.0  \n...             ...          ...          ...           ...  \n272936         -1.0         -1.0          0.0           1.0  \n272937         -1.0         -1.0         -1.0          -1.0  \n272938         -1.0         -1.0         -1.0          -1.0  \n272939          1.0         -1.0         -1.0          -1.0  \n272940          1.0          1.0         -1.0          -1.0  \n\n[272941 rows x 47 columns]"
     },
     "execution_count": 9,
     "metadata": {},
     "output_type": "execute_result"
    }
   ],
   "source": [
    "dataframe"
   ]
  },
  {
   "cell_type": "code",
   "execution_count": null,
   "metadata": {},
   "outputs": [],
   "source": []
  }
 ],
 "metadata": {
  "kernelspec": {
   "display_name": "Python 3",
   "language": "python",
   "name": "python3"
  },
  "language_info": {
   "codemirror_mode": {
    "name": "ipython",
    "version": 3
   },
   "file_extension": ".py",
   "mimetype": "text/x-python",
   "name": "python",
   "nbconvert_exporter": "python",
   "pygments_lexer": "ipython3",
   "version": "3.9.4"
  }
 },
 "nbformat": 4,
 "nbformat_minor": 5
}