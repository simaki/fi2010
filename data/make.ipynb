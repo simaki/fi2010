{
 "cells": [
  {
   "cell_type": "code",
   "execution_count": 1,
   "metadata": {},
   "outputs": [],
   "source": [
    "%reload_ext autoreload\n",
    "%autoreload\n",
    "\n",
    "import os\n",
    "from itertools import product\n",
    "\n",
    "import numpy as np\n",
    "import pandas as pd\n",
    "from tqdm import tqdm"
   ]
  },
  {
   "cell_type": "code",
   "execution_count": 2,
   "metadata": {},
   "outputs": [],
   "source": [
    "assert os.path.exists(\"./BenchmarkDatasets\")"
   ]
  },
  {
   "cell_type": "code",
   "execution_count": 3,
   "metadata": {},
   "outputs": [],
   "source": [
    "def load_raw(day: int, normalization=\"DecPre\") -> np.array:\n",
    "    index = {\"DecPre\": 3, \"Zscore\": 1}[normalization]\n",
    "    root = f\"./BenchmarkDatasets/NoAuction/{index}.NoAuction_{normalization}\"\n",
    "    if normalization == \"Zscore\":\n",
    "        normalization1 = \"ZScore\"\n",
    "    else:\n",
    "        normalization1 = normalization\n",
    "    if day == 1:\n",
    "        return np.loadtxt(\n",
    "            f\"{root}/NoAuction_{normalization}_Training/Train_Dst_NoAuction_{normalization1}_CF_1.txt\"\n",
    "        )\n",
    "    else:\n",
    "        return np.loadtxt(\n",
    "            f\"{root}/NoAuction_{normalization}_Testing/Test_Dst_NoAuction_{normalization1}_CF_{day-1}.txt\"\n",
    "        )"
   ]
  },
  {
   "cell_type": "code",
   "execution_count": 4,
   "metadata": {},
   "outputs": [],
   "source": [
    "def split(array, n_stocks=5) -> (np.array, ...):\n",
    "    boundaries = np.sort(\n",
    "        np.argsort(np.abs(np.diff(array[0], prepend=np.inf)))[-n_stocks - 1 :]\n",
    "    )\n",
    "    return tuple(array[:, boundaries[i] : boundaries[i + 1]] for i in range(n_stocks))"
   ]
  },
  {
   "cell_type": "code",
   "execution_count": 5,
   "metadata": {},
   "outputs": [],
   "source": [
    "def to_dataframe(array) -> pd.DataFrame:\n",
    "    data = {}\n",
    "\n",
    "    for level in range(10):\n",
    "        data[f\"PRICE_ASK_{level}\"] = array[4 * level]\n",
    "    for level in range(10):\n",
    "        data[f\"PRICE_BID_{level}\"] = array[4 * level + 2]\n",
    "    for level in range(10):\n",
    "        data[f\"VOLUME_ASK_{level}\"] = array[4 * level + 1]\n",
    "    for level in range(10):\n",
    "        data[f\"VOLUME_BID_{level}\"] = array[4 * level + 3]\n",
    "    data[f\"LABEL_1TICK\"] = 2 - array[-5]\n",
    "    data[f\"LABEL_2TICK\"] = 2 - array[-4]\n",
    "    data[f\"LABEL_3TICK\"] = 2 - array[-3]\n",
    "    data[f\"LABEL_5TICK\"] = 2 - array[-2]\n",
    "    data[f\"LABEL_10TICK\"] = 2 - array[-1]\n",
    "\n",
    "    return pd.DataFrame(data)"
   ]
  },
  {
   "cell_type": "code",
   "execution_count": 6,
   "metadata": {},
   "outputs": [],
   "source": [
    "def revert_decimal_normalization(df, max_denom=10 ** 8):\n",
    "    assert (df.iloc[:, :-5].values != 0).all()\n",
    "\n",
    "    df.iloc[:, :-5] = df.iloc[:, :-5] * max_denom\n",
    "    df.iloc[:, :-5] = df.iloc[:, :-5].round()\n",
    "    df.iloc[:, :-5] = df.iloc[:, :-5].astype(int)\n",
    "    for c in df.columns[:-5]:\n",
    "        while (df.loc[:, c] % 10 == 0).all():\n",
    "            df.loc[:, c] //= 10\n",
    "    return df"
   ]
  },
  {
   "cell_type": "code",
   "execution_count": 7,
   "metadata": {},
   "outputs": [
    {
     "name": "stderr",
     "output_type": "stream",
     "text": [
      "100%|██████████| 10/10 [00:35<00:00,  3.50s/it]\n"
     ]
    }
   ],
   "source": [
    "dfs = {i_stock: {} for i_stock in range(1, 5 + 1)}\n",
    "\n",
    "for day in tqdm(range(1, 10 + 1)):\n",
    "    a_raw = load_raw(day)\n",
    "    for i_stock, a in enumerate(split(a_raw)):\n",
    "        dfs[i_stock + 1][day] = to_dataframe(a)"
   ]
  },
  {
   "cell_type": "code",
   "execution_count": 8,
   "metadata": {
    "tags": []
   },
   "outputs": [
    {
     "name": "stderr",
     "output_type": "stream",
     "text": [
      "100%|██████████| 50/50 [00:07<00:00,  6.69it/s]\n"
     ]
    }
   ],
   "source": [
    "listdf = []\n",
    "\n",
    "for i_stock, day in tqdm(list(product(range(1, 5 + 1), range(1, 10 + 1)))):\n",
    "    df = dfs[i_stock][day]\n",
    "    df = revert_decimal_normalization(df)\n",
    "    df[\"STOCK\"] = i_stock\n",
    "    df[\"DAY\"] = day\n",
    "    df = df[list(df.columns[-2:]) + list(df.columns[:-2])]\n",
    "\n",
    "    listdf.append(df)\n",
    "\n",
    "dataframe = pd.concat(listdf, axis=0)\n",
    "dataframe = dataframe.reset_index(drop=True)\n",
    "dataframe = dataframe.astype(int)\n",
    "dataframe.to_csv(f\"data.csv\")"
   ]
  },
  {
   "cell_type": "code",
   "execution_count": 9,
   "metadata": {},
   "outputs": [
    {
     "data": {
      "text/html": "<div>\n<style scoped>\n    .dataframe tbody tr th:only-of-type {\n        vertical-align: middle;\n    }\n\n    .dataframe tbody tr th {\n        vertical-align: top;\n    }\n\n    .dataframe thead th {\n        text-align: right;\n    }\n</style>\n<table border=\"1\" class=\"dataframe\">\n  <thead>\n    <tr style=\"text-align: right;\">\n      <th></th>\n      <th>STOCK</th>\n      <th>DAY</th>\n      <th>PRICE_ASK_0</th>\n      <th>PRICE_ASK_1</th>\n      <th>PRICE_ASK_2</th>\n      <th>PRICE_ASK_3</th>\n      <th>PRICE_ASK_4</th>\n      <th>PRICE_ASK_5</th>\n      <th>PRICE_ASK_6</th>\n      <th>PRICE_ASK_7</th>\n      <th>...</th>\n      <th>VOLUME_BID_5</th>\n      <th>VOLUME_BID_6</th>\n      <th>VOLUME_BID_7</th>\n      <th>VOLUME_BID_8</th>\n      <th>VOLUME_BID_9</th>\n      <th>LABEL_1TICK</th>\n      <th>LABEL_2TICK</th>\n      <th>LABEL_3TICK</th>\n      <th>LABEL_5TICK</th>\n      <th>LABEL_10TICK</th>\n    </tr>\n  </thead>\n  <tbody>\n    <tr>\n      <th>0</th>\n      <td>1</td>\n      <td>1</td>\n      <td>2615</td>\n      <td>2618</td>\n      <td>2619</td>\n      <td>2620</td>\n      <td>2621</td>\n      <td>2623</td>\n      <td>2625</td>\n      <td>2626</td>\n      <td>...</td>\n      <td>100</td>\n      <td>143</td>\n      <td>134</td>\n      <td>123</td>\n      <td>128</td>\n      <td>0</td>\n      <td>0</td>\n      <td>0</td>\n      <td>0</td>\n      <td>0</td>\n    </tr>\n    <tr>\n      <th>1</th>\n      <td>1</td>\n      <td>1</td>\n      <td>2615</td>\n      <td>2619</td>\n      <td>2620</td>\n      <td>2621</td>\n      <td>2625</td>\n      <td>2626</td>\n      <td>2629</td>\n      <td>2633</td>\n      <td>...</td>\n      <td>159</td>\n      <td>100</td>\n      <td>143</td>\n      <td>134</td>\n      <td>123</td>\n      <td>0</td>\n      <td>0</td>\n      <td>0</td>\n      <td>0</td>\n      <td>0</td>\n    </tr>\n    <tr>\n      <th>2</th>\n      <td>1</td>\n      <td>1</td>\n      <td>2614</td>\n      <td>2615</td>\n      <td>2617</td>\n      <td>2619</td>\n      <td>2620</td>\n      <td>2621</td>\n      <td>2625</td>\n      <td>2626</td>\n      <td>...</td>\n      <td>159</td>\n      <td>100</td>\n      <td>143</td>\n      <td>134</td>\n      <td>123</td>\n      <td>-1</td>\n      <td>-1</td>\n      <td>0</td>\n      <td>0</td>\n      <td>0</td>\n    </tr>\n    <tr>\n      <th>3</th>\n      <td>1</td>\n      <td>1</td>\n      <td>2614</td>\n      <td>2617</td>\n      <td>2619</td>\n      <td>2620</td>\n      <td>2621</td>\n      <td>2625</td>\n      <td>2629</td>\n      <td>2633</td>\n      <td>...</td>\n      <td>100</td>\n      <td>143</td>\n      <td>134</td>\n      <td>123</td>\n      <td>128</td>\n      <td>0</td>\n      <td>0</td>\n      <td>-1</td>\n      <td>0</td>\n      <td>0</td>\n    </tr>\n    <tr>\n      <th>4</th>\n      <td>1</td>\n      <td>1</td>\n      <td>2614</td>\n      <td>2617</td>\n      <td>2619</td>\n      <td>2620</td>\n      <td>2621</td>\n      <td>2625</td>\n      <td>2629</td>\n      <td>2633</td>\n      <td>...</td>\n      <td>100</td>\n      <td>143</td>\n      <td>134</td>\n      <td>123</td>\n      <td>128</td>\n      <td>1</td>\n      <td>1</td>\n      <td>1</td>\n      <td>0</td>\n      <td>0</td>\n    </tr>\n    <tr>\n      <th>...</th>\n      <td>...</td>\n      <td>...</td>\n      <td>...</td>\n      <td>...</td>\n      <td>...</td>\n      <td>...</td>\n      <td>...</td>\n      <td>...</td>\n      <td>...</td>\n      <td>...</td>\n      <td>...</td>\n      <td>...</td>\n      <td>...</td>\n      <td>...</td>\n      <td>...</td>\n      <td>...</td>\n      <td>...</td>\n      <td>...</td>\n      <td>...</td>\n      <td>...</td>\n      <td>...</td>\n    </tr>\n    <tr>\n      <th>272936</th>\n      <td>5</td>\n      <td>10</td>\n      <td>3688</td>\n      <td>3690</td>\n      <td>3691</td>\n      <td>3692</td>\n      <td>3693</td>\n      <td>3695</td>\n      <td>3696</td>\n      <td>3697</td>\n      <td>...</td>\n      <td>100</td>\n      <td>768</td>\n      <td>300</td>\n      <td>682</td>\n      <td>950</td>\n      <td>0</td>\n      <td>-1</td>\n      <td>-1</td>\n      <td>0</td>\n      <td>1</td>\n    </tr>\n    <tr>\n      <th>272937</th>\n      <td>5</td>\n      <td>10</td>\n      <td>3688</td>\n      <td>3689</td>\n      <td>3690</td>\n      <td>3691</td>\n      <td>3692</td>\n      <td>3693</td>\n      <td>3694</td>\n      <td>3695</td>\n      <td>...</td>\n      <td>100</td>\n      <td>768</td>\n      <td>300</td>\n      <td>682</td>\n      <td>950</td>\n      <td>-1</td>\n      <td>-1</td>\n      <td>-1</td>\n      <td>-1</td>\n      <td>-1</td>\n    </tr>\n    <tr>\n      <th>272938</th>\n      <td>5</td>\n      <td>10</td>\n      <td>3677</td>\n      <td>3688</td>\n      <td>3689</td>\n      <td>3690</td>\n      <td>3691</td>\n      <td>3692</td>\n      <td>3693</td>\n      <td>3694</td>\n      <td>...</td>\n      <td>768</td>\n      <td>300</td>\n      <td>682</td>\n      <td>950</td>\n      <td>100</td>\n      <td>-1</td>\n      <td>-1</td>\n      <td>-1</td>\n      <td>-1</td>\n      <td>-1</td>\n    </tr>\n    <tr>\n      <th>272939</th>\n      <td>5</td>\n      <td>10</td>\n      <td>3677</td>\n      <td>3688</td>\n      <td>3689</td>\n      <td>3690</td>\n      <td>3691</td>\n      <td>3692</td>\n      <td>3693</td>\n      <td>3694</td>\n      <td>...</td>\n      <td>768</td>\n      <td>300</td>\n      <td>600</td>\n      <td>682</td>\n      <td>950</td>\n      <td>1</td>\n      <td>1</td>\n      <td>-1</td>\n      <td>-1</td>\n      <td>-1</td>\n    </tr>\n    <tr>\n      <th>272940</th>\n      <td>5</td>\n      <td>10</td>\n      <td>3677</td>\n      <td>3688</td>\n      <td>3689</td>\n      <td>3690</td>\n      <td>3691</td>\n      <td>3692</td>\n      <td>3693</td>\n      <td>3694</td>\n      <td>...</td>\n      <td>768</td>\n      <td>600</td>\n      <td>450</td>\n      <td>682</td>\n      <td>950</td>\n      <td>1</td>\n      <td>1</td>\n      <td>1</td>\n      <td>-1</td>\n      <td>-1</td>\n    </tr>\n  </tbody>\n</table>\n<p>272941 rows × 47 columns</p>\n</div>",
      "text/plain": "        STOCK  DAY  PRICE_ASK_0  PRICE_ASK_1  PRICE_ASK_2  PRICE_ASK_3  \\\n0           1    1         2615         2618         2619         2620   \n1           1    1         2615         2619         2620         2621   \n2           1    1         2614         2615         2617         2619   \n3           1    1         2614         2617         2619         2620   \n4           1    1         2614         2617         2619         2620   \n...       ...  ...          ...          ...          ...          ...   \n272936      5   10         3688         3690         3691         3692   \n272937      5   10         3688         3689         3690         3691   \n272938      5   10         3677         3688         3689         3690   \n272939      5   10         3677         3688         3689         3690   \n272940      5   10         3677         3688         3689         3690   \n\n        PRICE_ASK_4  PRICE_ASK_5  PRICE_ASK_6  PRICE_ASK_7  ...  VOLUME_BID_5  \\\n0              2621         2623         2625         2626  ...           100   \n1              2625         2626         2629         2633  ...           159   \n2              2620         2621         2625         2626  ...           159   \n3              2621         2625         2629         2633  ...           100   \n4              2621         2625         2629         2633  ...           100   \n...             ...          ...          ...          ...  ...           ...   \n272936         3693         3695         3696         3697  ...           100   \n272937         3692         3693         3694         3695  ...           100   \n272938         3691         3692         3693         3694  ...           768   \n272939         3691         3692         3693         3694  ...           768   \n272940         3691         3692         3693         3694  ...           768   \n\n        VOLUME_BID_6  VOLUME_BID_7  VOLUME_BID_8  VOLUME_BID_9  LABEL_1TICK  \\\n0                143           134           123           128            0   \n1                100           143           134           123            0   \n2                100           143           134           123           -1   \n3                143           134           123           128            0   \n4                143           134           123           128            1   \n...              ...           ...           ...           ...          ...   \n272936           768           300           682           950            0   \n272937           768           300           682           950           -1   \n272938           300           682           950           100           -1   \n272939           300           600           682           950            1   \n272940           600           450           682           950            1   \n\n        LABEL_2TICK  LABEL_3TICK  LABEL_5TICK  LABEL_10TICK  \n0                 0            0            0             0  \n1                 0            0            0             0  \n2                -1            0            0             0  \n3                 0           -1            0             0  \n4                 1            1            0             0  \n...             ...          ...          ...           ...  \n272936           -1           -1            0             1  \n272937           -1           -1           -1            -1  \n272938           -1           -1           -1            -1  \n272939            1           -1           -1            -1  \n272940            1            1           -1            -1  \n\n[272941 rows x 47 columns]"
     },
     "execution_count": 9,
     "metadata": {},
     "output_type": "execute_result"
    }
   ],
   "source": [
    "dataframe"
   ]
  },
  {
   "cell_type": "code",
   "execution_count": 10,
   "metadata": {},
   "outputs": [
    {
     "name": "stderr",
     "output_type": "stream",
     "text": [
      "100%|██████████| 10/10 [00:34<00:00,  3.40s/it]\n"
     ]
    }
   ],
   "source": [
    "dfs = {i_stock: {} for i_stock in range(1, 5 + 1)}\n",
    "\n",
    "for day in tqdm(range(1, 10 + 1)):\n",
    "    a_raw = load_raw(day, normalization=\"Zscore\")\n",
    "    for i_stock, a in enumerate(split(a_raw)):\n",
    "        dfs[i_stock + 1][day] = to_dataframe(a)"
   ]
  },
  {
   "cell_type": "code",
   "execution_count": 11,
   "metadata": {},
   "outputs": [
    {
     "name": "stderr",
     "output_type": "stream",
     "text": [
      "100%|██████████| 50/50 [00:00<00:00, 464.43it/s]\n"
     ]
    }
   ],
   "source": [
    "listdf = []\n",
    "\n",
    "for i_stock, day in tqdm(list(product(range(1, 5 + 1), range(1, 10 + 1)))):\n",
    "    df = dfs[i_stock][day]\n",
    "    # df = revert_decimal_normalization(df)\n",
    "    df[\"STOCK\"] = i_stock\n",
    "    df[\"DAY\"] = day\n",
    "    df = df[list(df.columns[-2:]) + list(df.columns[:-2])]\n",
    "\n",
    "    listdf.append(df)\n",
    "\n",
    "dataframe = pd.concat(listdf, axis=0)\n",
    "dataframe = dataframe.reset_index(drop=True)\n",
    "# dataframe = dataframe.astype(int)\n",
    "dataframe.iloc[:, -5:] = dataframe.iloc[:, -5:].astype(int)\n",
    "dataframe.iloc[:100000].to_csv(f\"data_zscore1.csv\")\n",
    "dataframe.iloc[100000:].to_csv(f\"data_zscore2.csv\")"
   ]
  },
  {
   "cell_type": "code",
   "execution_count": 12,
   "metadata": {},
   "outputs": [
    {
     "data": {
      "text/html": "<div>\n<style scoped>\n    .dataframe tbody tr th:only-of-type {\n        vertical-align: middle;\n    }\n\n    .dataframe tbody tr th {\n        vertical-align: top;\n    }\n\n    .dataframe thead th {\n        text-align: right;\n    }\n</style>\n<table border=\"1\" class=\"dataframe\">\n  <thead>\n    <tr style=\"text-align: right;\">\n      <th></th>\n      <th>STOCK</th>\n      <th>DAY</th>\n      <th>PRICE_ASK_0</th>\n      <th>PRICE_ASK_1</th>\n      <th>PRICE_ASK_2</th>\n      <th>PRICE_ASK_3</th>\n      <th>PRICE_ASK_4</th>\n      <th>PRICE_ASK_5</th>\n      <th>PRICE_ASK_6</th>\n      <th>PRICE_ASK_7</th>\n      <th>...</th>\n      <th>VOLUME_BID_5</th>\n      <th>VOLUME_BID_6</th>\n      <th>VOLUME_BID_7</th>\n      <th>VOLUME_BID_8</th>\n      <th>VOLUME_BID_9</th>\n      <th>LABEL_1TICK</th>\n      <th>LABEL_2TICK</th>\n      <th>LABEL_3TICK</th>\n      <th>LABEL_5TICK</th>\n      <th>LABEL_10TICK</th>\n    </tr>\n  </thead>\n  <tbody>\n    <tr>\n      <th>0</th>\n      <td>1</td>\n      <td>1</td>\n      <td>0.408275</td>\n      <td>0.409877</td>\n      <td>0.409493</td>\n      <td>0.409170</td>\n      <td>0.408796</td>\n      <td>0.409242</td>\n      <td>0.409436</td>\n      <td>0.408336</td>\n      <td>...</td>\n      <td>-0.784121</td>\n      <td>-0.718656</td>\n      <td>-0.573157</td>\n      <td>-0.521503</td>\n      <td>-0.464096</td>\n      <td>0</td>\n      <td>0</td>\n      <td>0</td>\n      <td>0</td>\n      <td>0</td>\n    </tr>\n    <tr>\n      <th>1</th>\n      <td>1</td>\n      <td>1</td>\n      <td>0.408275</td>\n      <td>0.410898</td>\n      <td>0.410513</td>\n      <td>0.410191</td>\n      <td>0.412876</td>\n      <td>0.412301</td>\n      <td>0.413513</td>\n      <td>0.415468</td>\n      <td>...</td>\n      <td>-0.758706</td>\n      <td>-0.737892</td>\n      <td>-0.569944</td>\n      <td>-0.518372</td>\n      <td>-0.465155</td>\n      <td>0</td>\n      <td>0</td>\n      <td>0</td>\n      <td>0</td>\n      <td>0</td>\n    </tr>\n    <tr>\n      <th>2</th>\n      <td>1</td>\n      <td>1</td>\n      <td>0.407254</td>\n      <td>0.406815</td>\n      <td>0.407452</td>\n      <td>0.408150</td>\n      <td>0.407776</td>\n      <td>0.407202</td>\n      <td>0.409436</td>\n      <td>0.408336</td>\n      <td>...</td>\n      <td>-0.758706</td>\n      <td>-0.737892</td>\n      <td>-0.569944</td>\n      <td>-0.518372</td>\n      <td>-0.465155</td>\n      <td>-1</td>\n      <td>-1</td>\n      <td>0</td>\n      <td>0</td>\n      <td>0</td>\n    </tr>\n    <tr>\n      <th>3</th>\n      <td>1</td>\n      <td>1</td>\n      <td>0.407254</td>\n      <td>0.408857</td>\n      <td>0.409493</td>\n      <td>0.409170</td>\n      <td>0.408796</td>\n      <td>0.411282</td>\n      <td>0.413513</td>\n      <td>0.415468</td>\n      <td>...</td>\n      <td>-0.784121</td>\n      <td>-0.718656</td>\n      <td>-0.573157</td>\n      <td>-0.521503</td>\n      <td>-0.464096</td>\n      <td>0</td>\n      <td>0</td>\n      <td>-1</td>\n      <td>0</td>\n      <td>0</td>\n    </tr>\n    <tr>\n      <th>4</th>\n      <td>1</td>\n      <td>1</td>\n      <td>0.407254</td>\n      <td>0.408857</td>\n      <td>0.409493</td>\n      <td>0.409170</td>\n      <td>0.408796</td>\n      <td>0.411282</td>\n      <td>0.413513</td>\n      <td>0.415468</td>\n      <td>...</td>\n      <td>-0.784121</td>\n      <td>-0.718656</td>\n      <td>-0.573157</td>\n      <td>-0.521503</td>\n      <td>-0.464096</td>\n      <td>1</td>\n      <td>1</td>\n      <td>1</td>\n      <td>0</td>\n      <td>0</td>\n    </tr>\n    <tr>\n      <th>...</th>\n      <td>...</td>\n      <td>...</td>\n      <td>...</td>\n      <td>...</td>\n      <td>...</td>\n      <td>...</td>\n      <td>...</td>\n      <td>...</td>\n      <td>...</td>\n      <td>...</td>\n      <td>...</td>\n      <td>...</td>\n      <td>...</td>\n      <td>...</td>\n      <td>...</td>\n      <td>...</td>\n      <td>...</td>\n      <td>...</td>\n      <td>...</td>\n      <td>...</td>\n      <td>...</td>\n    </tr>\n    <tr>\n      <th>284870</th>\n      <td>5</td>\n      <td>10</td>\n      <td>1.369639</td>\n      <td>1.371981</td>\n      <td>1.371401</td>\n      <td>1.371911</td>\n      <td>1.371474</td>\n      <td>1.370849</td>\n      <td>1.370002</td>\n      <td>1.368860</td>\n      <td>...</td>\n      <td>-0.807128</td>\n      <td>-0.463179</td>\n      <td>-0.562488</td>\n      <td>-0.370706</td>\n      <td>-0.297304</td>\n      <td>1</td>\n      <td>1</td>\n      <td>-1</td>\n      <td>-1</td>\n      <td>0</td>\n    </tr>\n    <tr>\n      <th>284871</th>\n      <td>5</td>\n      <td>10</td>\n      <td>1.369639</td>\n      <td>1.371001</td>\n      <td>1.370421</td>\n      <td>1.369952</td>\n      <td>1.370495</td>\n      <td>1.369870</td>\n      <td>1.369023</td>\n      <td>1.367882</td>\n      <td>...</td>\n      <td>-0.807128</td>\n      <td>-0.463179</td>\n      <td>-0.562488</td>\n      <td>-0.370706</td>\n      <td>-0.297304</td>\n      <td>0</td>\n      <td>1</td>\n      <td>1</td>\n      <td>0</td>\n      <td>-1</td>\n    </tr>\n    <tr>\n      <th>284872</th>\n      <td>5</td>\n      <td>10</td>\n      <td>1.369639</td>\n      <td>1.369041</td>\n      <td>1.369442</td>\n      <td>1.368973</td>\n      <td>1.368537</td>\n      <td>1.368891</td>\n      <td>1.368045</td>\n      <td>1.366904</td>\n      <td>...</td>\n      <td>-0.807128</td>\n      <td>-0.463179</td>\n      <td>-0.562488</td>\n      <td>-0.370706</td>\n      <td>-0.297304</td>\n      <td>1</td>\n      <td>1</td>\n      <td>1</td>\n      <td>-1</td>\n      <td>1</td>\n    </tr>\n    <tr>\n      <th>284873</th>\n      <td>5</td>\n      <td>10</td>\n      <td>1.369639</td>\n      <td>1.370021</td>\n      <td>1.369442</td>\n      <td>1.368973</td>\n      <td>1.368537</td>\n      <td>1.368891</td>\n      <td>1.368045</td>\n      <td>1.366904</td>\n      <td>...</td>\n      <td>-0.807128</td>\n      <td>-0.463179</td>\n      <td>-0.562488</td>\n      <td>-0.370706</td>\n      <td>-0.297304</td>\n      <td>0</td>\n      <td>-1</td>\n      <td>-1</td>\n      <td>0</td>\n      <td>1</td>\n    </tr>\n    <tr>\n      <th>284874</th>\n      <td>5</td>\n      <td>10</td>\n      <td>1.369639</td>\n      <td>1.369041</td>\n      <td>1.368462</td>\n      <td>1.367994</td>\n      <td>1.367557</td>\n      <td>1.366933</td>\n      <td>1.366088</td>\n      <td>1.364947</td>\n      <td>...</td>\n      <td>-0.807128</td>\n      <td>-0.463179</td>\n      <td>-0.562488</td>\n      <td>-0.370706</td>\n      <td>-0.297304</td>\n      <td>-1</td>\n      <td>-1</td>\n      <td>-1</td>\n      <td>-1</td>\n      <td>-1</td>\n    </tr>\n  </tbody>\n</table>\n<p>284875 rows × 47 columns</p>\n</div>",
      "text/plain": "        STOCK  DAY  PRICE_ASK_0  PRICE_ASK_1  PRICE_ASK_2  PRICE_ASK_3  \\\n0           1    1     0.408275     0.409877     0.409493     0.409170   \n1           1    1     0.408275     0.410898     0.410513     0.410191   \n2           1    1     0.407254     0.406815     0.407452     0.408150   \n3           1    1     0.407254     0.408857     0.409493     0.409170   \n4           1    1     0.407254     0.408857     0.409493     0.409170   \n...       ...  ...          ...          ...          ...          ...   \n284870      5   10     1.369639     1.371981     1.371401     1.371911   \n284871      5   10     1.369639     1.371001     1.370421     1.369952   \n284872      5   10     1.369639     1.369041     1.369442     1.368973   \n284873      5   10     1.369639     1.370021     1.369442     1.368973   \n284874      5   10     1.369639     1.369041     1.368462     1.367994   \n\n        PRICE_ASK_4  PRICE_ASK_5  PRICE_ASK_6  PRICE_ASK_7  ...  VOLUME_BID_5  \\\n0          0.408796     0.409242     0.409436     0.408336  ...     -0.784121   \n1          0.412876     0.412301     0.413513     0.415468  ...     -0.758706   \n2          0.407776     0.407202     0.409436     0.408336  ...     -0.758706   \n3          0.408796     0.411282     0.413513     0.415468  ...     -0.784121   \n4          0.408796     0.411282     0.413513     0.415468  ...     -0.784121   \n...             ...          ...          ...          ...  ...           ...   \n284870     1.371474     1.370849     1.370002     1.368860  ...     -0.807128   \n284871     1.370495     1.369870     1.369023     1.367882  ...     -0.807128   \n284872     1.368537     1.368891     1.368045     1.366904  ...     -0.807128   \n284873     1.368537     1.368891     1.368045     1.366904  ...     -0.807128   \n284874     1.367557     1.366933     1.366088     1.364947  ...     -0.807128   \n\n        VOLUME_BID_6  VOLUME_BID_7  VOLUME_BID_8  VOLUME_BID_9  LABEL_1TICK  \\\n0          -0.718656     -0.573157     -0.521503     -0.464096            0   \n1          -0.737892     -0.569944     -0.518372     -0.465155            0   \n2          -0.737892     -0.569944     -0.518372     -0.465155           -1   \n3          -0.718656     -0.573157     -0.521503     -0.464096            0   \n4          -0.718656     -0.573157     -0.521503     -0.464096            1   \n...              ...           ...           ...           ...          ...   \n284870     -0.463179     -0.562488     -0.370706     -0.297304            1   \n284871     -0.463179     -0.562488     -0.370706     -0.297304            0   \n284872     -0.463179     -0.562488     -0.370706     -0.297304            1   \n284873     -0.463179     -0.562488     -0.370706     -0.297304            0   \n284874     -0.463179     -0.562488     -0.370706     -0.297304           -1   \n\n        LABEL_2TICK  LABEL_3TICK  LABEL_5TICK  LABEL_10TICK  \n0                 0            0            0             0  \n1                 0            0            0             0  \n2                -1            0            0             0  \n3                 0           -1            0             0  \n4                 1            1            0             0  \n...             ...          ...          ...           ...  \n284870            1           -1           -1             0  \n284871            1            1            0            -1  \n284872            1            1           -1             1  \n284873           -1           -1            0             1  \n284874           -1           -1           -1            -1  \n\n[284875 rows x 47 columns]"
     },
     "execution_count": 12,
     "metadata": {},
     "output_type": "execute_result"
    }
   ],
   "source": [
    "dataframe"
   ]
  },
  {
   "cell_type": "code",
   "execution_count": null,
   "metadata": {},
   "outputs": [],
   "source": []
  }
 ],
 "metadata": {
  "kernelspec": {
   "display_name": "Python 3",
   "language": "python",
   "name": "python3"
  },
  "language_info": {
   "codemirror_mode": {
    "name": "ipython",
    "version": 3
   },
   "file_extension": ".py",
   "mimetype": "text/x-python",
   "name": "python",
   "nbconvert_exporter": "python",
   "pygments_lexer": "ipython3",
   "version": "3.9.4"
  }
 },
 "nbformat": 4,
 "nbformat_minor": 5
}